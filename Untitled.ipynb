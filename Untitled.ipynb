{
 "cells": [
  {
   "cell_type": "code",
   "execution_count": 35,
   "id": "0c1b44da",
   "metadata": {},
   "outputs": [],
   "source": [
    "import numpy as np\n",
    "import matplotlib.pyplot as plt\n",
    "import pandas as pd\n",
    "from sklearn.cluster import KMeans"
   ]
  },
  {
   "cell_type": "markdown",
   "id": "acc4d44b",
   "metadata": {},
   "source": [
    "# Read Data From CSV\n",
    "\n",
    "<p>I followed Rule like this acticel cause have same case \n",
    "</p>\n",
    "<a>https://medium.com/pursuitnotes/k-means-clustering-model-in-6-steps-with-python-35b532cfa8ad</a>"
   ]
  },
  {
   "cell_type": "code",
   "execution_count": 36,
   "id": "09f4c601",
   "metadata": {},
   "outputs": [
    {
     "data": {
      "text/html": [
       "<div>\n",
       "<style scoped>\n",
       "    .dataframe tbody tr th:only-of-type {\n",
       "        vertical-align: middle;\n",
       "    }\n",
       "\n",
       "    .dataframe tbody tr th {\n",
       "        vertical-align: top;\n",
       "    }\n",
       "\n",
       "    .dataframe thead th {\n",
       "        text-align: right;\n",
       "    }\n",
       "</style>\n",
       "<table border=\"1\" class=\"dataframe\">\n",
       "  <thead>\n",
       "    <tr style=\"text-align: right;\">\n",
       "      <th></th>\n",
       "      <th>Sex</th>\n",
       "      <th>Marital status</th>\n",
       "      <th>Age</th>\n",
       "      <th>Education</th>\n",
       "      <th>Income</th>\n",
       "      <th>Occupation</th>\n",
       "      <th>Settlement size</th>\n",
       "    </tr>\n",
       "  </thead>\n",
       "  <tbody>\n",
       "    <tr>\n",
       "      <th>0</th>\n",
       "      <td>0</td>\n",
       "      <td>0</td>\n",
       "      <td>67</td>\n",
       "      <td>2</td>\n",
       "      <td>124670</td>\n",
       "      <td>1</td>\n",
       "      <td>2</td>\n",
       "    </tr>\n",
       "    <tr>\n",
       "      <th>1</th>\n",
       "      <td>1</td>\n",
       "      <td>1</td>\n",
       "      <td>22</td>\n",
       "      <td>1</td>\n",
       "      <td>150773</td>\n",
       "      <td>1</td>\n",
       "      <td>2</td>\n",
       "    </tr>\n",
       "    <tr>\n",
       "      <th>2</th>\n",
       "      <td>0</td>\n",
       "      <td>0</td>\n",
       "      <td>49</td>\n",
       "      <td>1</td>\n",
       "      <td>89210</td>\n",
       "      <td>0</td>\n",
       "      <td>0</td>\n",
       "    </tr>\n",
       "    <tr>\n",
       "      <th>3</th>\n",
       "      <td>0</td>\n",
       "      <td>0</td>\n",
       "      <td>45</td>\n",
       "      <td>1</td>\n",
       "      <td>171565</td>\n",
       "      <td>1</td>\n",
       "      <td>1</td>\n",
       "    </tr>\n",
       "    <tr>\n",
       "      <th>4</th>\n",
       "      <td>0</td>\n",
       "      <td>0</td>\n",
       "      <td>53</td>\n",
       "      <td>1</td>\n",
       "      <td>149031</td>\n",
       "      <td>1</td>\n",
       "      <td>1</td>\n",
       "    </tr>\n",
       "    <tr>\n",
       "      <th>...</th>\n",
       "      <td>...</td>\n",
       "      <td>...</td>\n",
       "      <td>...</td>\n",
       "      <td>...</td>\n",
       "      <td>...</td>\n",
       "      <td>...</td>\n",
       "      <td>...</td>\n",
       "    </tr>\n",
       "    <tr>\n",
       "      <th>1995</th>\n",
       "      <td>1</td>\n",
       "      <td>0</td>\n",
       "      <td>47</td>\n",
       "      <td>1</td>\n",
       "      <td>123525</td>\n",
       "      <td>0</td>\n",
       "      <td>0</td>\n",
       "    </tr>\n",
       "    <tr>\n",
       "      <th>1996</th>\n",
       "      <td>1</td>\n",
       "      <td>1</td>\n",
       "      <td>27</td>\n",
       "      <td>1</td>\n",
       "      <td>117744</td>\n",
       "      <td>1</td>\n",
       "      <td>0</td>\n",
       "    </tr>\n",
       "    <tr>\n",
       "      <th>1997</th>\n",
       "      <td>0</td>\n",
       "      <td>0</td>\n",
       "      <td>31</td>\n",
       "      <td>0</td>\n",
       "      <td>86400</td>\n",
       "      <td>0</td>\n",
       "      <td>0</td>\n",
       "    </tr>\n",
       "    <tr>\n",
       "      <th>1998</th>\n",
       "      <td>1</td>\n",
       "      <td>1</td>\n",
       "      <td>24</td>\n",
       "      <td>1</td>\n",
       "      <td>97968</td>\n",
       "      <td>0</td>\n",
       "      <td>0</td>\n",
       "    </tr>\n",
       "    <tr>\n",
       "      <th>1999</th>\n",
       "      <td>0</td>\n",
       "      <td>0</td>\n",
       "      <td>25</td>\n",
       "      <td>0</td>\n",
       "      <td>68416</td>\n",
       "      <td>0</td>\n",
       "      <td>0</td>\n",
       "    </tr>\n",
       "  </tbody>\n",
       "</table>\n",
       "<p>2000 rows × 7 columns</p>\n",
       "</div>"
      ],
      "text/plain": [
       "      Sex  Marital status  Age  Education  Income  Occupation  Settlement size\n",
       "0       0               0   67          2  124670           1                2\n",
       "1       1               1   22          1  150773           1                2\n",
       "2       0               0   49          1   89210           0                0\n",
       "3       0               0   45          1  171565           1                1\n",
       "4       0               0   53          1  149031           1                1\n",
       "...   ...             ...  ...        ...     ...         ...              ...\n",
       "1995    1               0   47          1  123525           0                0\n",
       "1996    1               1   27          1  117744           1                0\n",
       "1997    0               0   31          0   86400           0                0\n",
       "1998    1               1   24          1   97968           0                0\n",
       "1999    0               0   25          0   68416           0                0\n",
       "\n",
       "[2000 rows x 7 columns]"
      ]
     },
     "execution_count": 36,
     "metadata": {},
     "output_type": "execute_result"
    }
   ],
   "source": [
    "df=pd.read_csv(\"assets/data/segmentation data.csv\")\n",
    "df=df.drop(\"ID\",axis=1)\n",
    "df"
   ]
  },
  {
   "cell_type": "markdown",
   "id": "6c773fac",
   "metadata": {},
   "source": [
    "<p>Here i count amount customer at the FMCG accodring anual income  and age</p>"
   ]
  },
  {
   "cell_type": "code",
   "execution_count": 37,
   "id": "174d9e54",
   "metadata": {},
   "outputs": [
    {
     "data": {
      "text/html": [
       "<div>\n",
       "<style scoped>\n",
       "    .dataframe tbody tr th:only-of-type {\n",
       "        vertical-align: middle;\n",
       "    }\n",
       "\n",
       "    .dataframe tbody tr th {\n",
       "        vertical-align: top;\n",
       "    }\n",
       "\n",
       "    .dataframe thead th {\n",
       "        text-align: right;\n",
       "    }\n",
       "</style>\n",
       "<table border=\"1\" class=\"dataframe\">\n",
       "  <thead>\n",
       "    <tr style=\"text-align: right;\">\n",
       "      <th></th>\n",
       "      <th>Sex</th>\n",
       "      <th>Marital status</th>\n",
       "      <th>Age</th>\n",
       "      <th>Education</th>\n",
       "      <th>Income</th>\n",
       "      <th>Occupation</th>\n",
       "      <th>Settlement size</th>\n",
       "    </tr>\n",
       "  </thead>\n",
       "  <tbody>\n",
       "    <tr>\n",
       "      <th>count</th>\n",
       "      <td>2000.000000</td>\n",
       "      <td>2000.000000</td>\n",
       "      <td>2000.000000</td>\n",
       "      <td>2000.00000</td>\n",
       "      <td>2000.000000</td>\n",
       "      <td>2000.000000</td>\n",
       "      <td>2000.000000</td>\n",
       "    </tr>\n",
       "    <tr>\n",
       "      <th>mean</th>\n",
       "      <td>0.457000</td>\n",
       "      <td>0.496500</td>\n",
       "      <td>35.909000</td>\n",
       "      <td>1.03800</td>\n",
       "      <td>120954.419000</td>\n",
       "      <td>0.810500</td>\n",
       "      <td>0.739000</td>\n",
       "    </tr>\n",
       "    <tr>\n",
       "      <th>std</th>\n",
       "      <td>0.498272</td>\n",
       "      <td>0.500113</td>\n",
       "      <td>11.719402</td>\n",
       "      <td>0.59978</td>\n",
       "      <td>38108.824679</td>\n",
       "      <td>0.638587</td>\n",
       "      <td>0.812533</td>\n",
       "    </tr>\n",
       "    <tr>\n",
       "      <th>min</th>\n",
       "      <td>0.000000</td>\n",
       "      <td>0.000000</td>\n",
       "      <td>18.000000</td>\n",
       "      <td>0.00000</td>\n",
       "      <td>35832.000000</td>\n",
       "      <td>0.000000</td>\n",
       "      <td>0.000000</td>\n",
       "    </tr>\n",
       "    <tr>\n",
       "      <th>25%</th>\n",
       "      <td>0.000000</td>\n",
       "      <td>0.000000</td>\n",
       "      <td>27.000000</td>\n",
       "      <td>1.00000</td>\n",
       "      <td>97663.250000</td>\n",
       "      <td>0.000000</td>\n",
       "      <td>0.000000</td>\n",
       "    </tr>\n",
       "    <tr>\n",
       "      <th>50%</th>\n",
       "      <td>0.000000</td>\n",
       "      <td>0.000000</td>\n",
       "      <td>33.000000</td>\n",
       "      <td>1.00000</td>\n",
       "      <td>115548.500000</td>\n",
       "      <td>1.000000</td>\n",
       "      <td>1.000000</td>\n",
       "    </tr>\n",
       "    <tr>\n",
       "      <th>75%</th>\n",
       "      <td>1.000000</td>\n",
       "      <td>1.000000</td>\n",
       "      <td>42.000000</td>\n",
       "      <td>1.00000</td>\n",
       "      <td>138072.250000</td>\n",
       "      <td>1.000000</td>\n",
       "      <td>1.000000</td>\n",
       "    </tr>\n",
       "    <tr>\n",
       "      <th>max</th>\n",
       "      <td>1.000000</td>\n",
       "      <td>1.000000</td>\n",
       "      <td>76.000000</td>\n",
       "      <td>3.00000</td>\n",
       "      <td>309364.000000</td>\n",
       "      <td>2.000000</td>\n",
       "      <td>2.000000</td>\n",
       "    </tr>\n",
       "  </tbody>\n",
       "</table>\n",
       "</div>"
      ],
      "text/plain": [
       "               Sex  Marital status          Age   Education         Income  \\\n",
       "count  2000.000000     2000.000000  2000.000000  2000.00000    2000.000000   \n",
       "mean      0.457000        0.496500    35.909000     1.03800  120954.419000   \n",
       "std       0.498272        0.500113    11.719402     0.59978   38108.824679   \n",
       "min       0.000000        0.000000    18.000000     0.00000   35832.000000   \n",
       "25%       0.000000        0.000000    27.000000     1.00000   97663.250000   \n",
       "50%       0.000000        0.000000    33.000000     1.00000  115548.500000   \n",
       "75%       1.000000        1.000000    42.000000     1.00000  138072.250000   \n",
       "max       1.000000        1.000000    76.000000     3.00000  309364.000000   \n",
       "\n",
       "        Occupation  Settlement size  \n",
       "count  2000.000000      2000.000000  \n",
       "mean      0.810500         0.739000  \n",
       "std       0.638587         0.812533  \n",
       "min       0.000000         0.000000  \n",
       "25%       0.000000         0.000000  \n",
       "50%       1.000000         1.000000  \n",
       "75%       1.000000         1.000000  \n",
       "max       2.000000         2.000000  "
      ]
     },
     "execution_count": 37,
     "metadata": {},
     "output_type": "execute_result"
    }
   ],
   "source": [
    "df.describe()"
   ]
  },
  {
   "cell_type": "code",
   "execution_count": 38,
   "id": "74339e6f",
   "metadata": {},
   "outputs": [
    {
     "data": {
      "text/html": [
       "<div>\n",
       "<style scoped>\n",
       "    .dataframe tbody tr th:only-of-type {\n",
       "        vertical-align: middle;\n",
       "    }\n",
       "\n",
       "    .dataframe tbody tr th {\n",
       "        vertical-align: top;\n",
       "    }\n",
       "\n",
       "    .dataframe thead th {\n",
       "        text-align: right;\n",
       "    }\n",
       "</style>\n",
       "<table border=\"1\" class=\"dataframe\">\n",
       "  <thead>\n",
       "    <tr style=\"text-align: right;\">\n",
       "      <th></th>\n",
       "      <th>Sex</th>\n",
       "      <th>Marital status</th>\n",
       "      <th>Age</th>\n",
       "      <th>Education</th>\n",
       "      <th>Income</th>\n",
       "      <th>Occupation</th>\n",
       "      <th>Settlement size</th>\n",
       "    </tr>\n",
       "  </thead>\n",
       "  <tbody>\n",
       "    <tr>\n",
       "      <th>Sex</th>\n",
       "      <td>1.000000</td>\n",
       "      <td>0.566511</td>\n",
       "      <td>-0.182885</td>\n",
       "      <td>0.244838</td>\n",
       "      <td>-0.195146</td>\n",
       "      <td>-0.202491</td>\n",
       "      <td>-0.300803</td>\n",
       "    </tr>\n",
       "    <tr>\n",
       "      <th>Marital status</th>\n",
       "      <td>0.566511</td>\n",
       "      <td>1.000000</td>\n",
       "      <td>-0.213178</td>\n",
       "      <td>0.374017</td>\n",
       "      <td>-0.073528</td>\n",
       "      <td>-0.029490</td>\n",
       "      <td>-0.097041</td>\n",
       "    </tr>\n",
       "    <tr>\n",
       "      <th>Age</th>\n",
       "      <td>-0.182885</td>\n",
       "      <td>-0.213178</td>\n",
       "      <td>1.000000</td>\n",
       "      <td>0.654605</td>\n",
       "      <td>0.340610</td>\n",
       "      <td>0.108388</td>\n",
       "      <td>0.119751</td>\n",
       "    </tr>\n",
       "    <tr>\n",
       "      <th>Education</th>\n",
       "      <td>0.244838</td>\n",
       "      <td>0.374017</td>\n",
       "      <td>0.654605</td>\n",
       "      <td>1.000000</td>\n",
       "      <td>0.233459</td>\n",
       "      <td>0.064524</td>\n",
       "      <td>0.034732</td>\n",
       "    </tr>\n",
       "    <tr>\n",
       "      <th>Income</th>\n",
       "      <td>-0.195146</td>\n",
       "      <td>-0.073528</td>\n",
       "      <td>0.340610</td>\n",
       "      <td>0.233459</td>\n",
       "      <td>1.000000</td>\n",
       "      <td>0.680357</td>\n",
       "      <td>0.490881</td>\n",
       "    </tr>\n",
       "    <tr>\n",
       "      <th>Occupation</th>\n",
       "      <td>-0.202491</td>\n",
       "      <td>-0.029490</td>\n",
       "      <td>0.108388</td>\n",
       "      <td>0.064524</td>\n",
       "      <td>0.680357</td>\n",
       "      <td>1.000000</td>\n",
       "      <td>0.571795</td>\n",
       "    </tr>\n",
       "    <tr>\n",
       "      <th>Settlement size</th>\n",
       "      <td>-0.300803</td>\n",
       "      <td>-0.097041</td>\n",
       "      <td>0.119751</td>\n",
       "      <td>0.034732</td>\n",
       "      <td>0.490881</td>\n",
       "      <td>0.571795</td>\n",
       "      <td>1.000000</td>\n",
       "    </tr>\n",
       "  </tbody>\n",
       "</table>\n",
       "</div>"
      ],
      "text/plain": [
       "                      Sex  Marital status       Age  Education    Income  \\\n",
       "Sex              1.000000        0.566511 -0.182885   0.244838 -0.195146   \n",
       "Marital status   0.566511        1.000000 -0.213178   0.374017 -0.073528   \n",
       "Age             -0.182885       -0.213178  1.000000   0.654605  0.340610   \n",
       "Education        0.244838        0.374017  0.654605   1.000000  0.233459   \n",
       "Income          -0.195146       -0.073528  0.340610   0.233459  1.000000   \n",
       "Occupation      -0.202491       -0.029490  0.108388   0.064524  0.680357   \n",
       "Settlement size -0.300803       -0.097041  0.119751   0.034732  0.490881   \n",
       "\n",
       "                 Occupation  Settlement size  \n",
       "Sex               -0.202491        -0.300803  \n",
       "Marital status    -0.029490        -0.097041  \n",
       "Age                0.108388         0.119751  \n",
       "Education          0.064524         0.034732  \n",
       "Income             0.680357         0.490881  \n",
       "Occupation         1.000000         0.571795  \n",
       "Settlement size    0.571795         1.000000  "
      ]
     },
     "execution_count": 38,
     "metadata": {},
     "output_type": "execute_result"
    }
   ],
   "source": [
    "import seaborn as sns\n",
    "corelation=df.corr()\n",
    "corelation"
   ]
  },
  {
   "cell_type": "markdown",
   "id": "e48bdfbe",
   "metadata": {},
   "source": [
    "## Here Choosen Features Age And Annual Income"
   ]
  },
  {
   "cell_type": "code",
   "execution_count": 39,
   "id": "d49bef6b",
   "metadata": {},
   "outputs": [
    {
     "data": {
      "text/plain": [
       "array([[    67, 124670],\n",
       "       [    22, 150773],\n",
       "       [    49,  89210],\n",
       "       ...,\n",
       "       [    31,  86400],\n",
       "       [    24,  97968],\n",
       "       [    25,  68416]], dtype=int64)"
      ]
     },
     "execution_count": 39,
     "metadata": {},
     "output_type": "execute_result"
    }
   ],
   "source": [
    "df11=df.iloc[:,[2,4]].values\n",
    "df11"
   ]
  },
  {
   "cell_type": "markdown",
   "id": "f6836092",
   "metadata": {},
   "source": [
    "# Enter The Algorithm"
   ]
  },
  {
   "cell_type": "code",
   "execution_count": 40,
   "id": "edeeba7b",
   "metadata": {},
   "outputs": [
    {
     "data": {
      "image/png": "[encoded data removed]",
      "text/plain": [
       "<Figure size 432x288 with 1 Axes>"
      ]
     },
     "metadata": {
      "needs_background": "light"
     },
     "output_type": "display_data"
    }
   ],
   "source": [
    "wccs=[]\n",
    "for i in range(1,11):\n",
    "    kmeans= KMeans(n_clusters=i)\n",
    "    kmeans.fit(df11)\n",
    "    wccs.append(kmeans.inertia_)\n",
    "plt.plot(range(1,11),wccs)\n",
    "plt.title(\"The Elbow Method\")\n",
    "plt.title('The elbow method')\n",
    "plt.xlabel('Number of clusters')\n",
    "plt.ylabel('WCSS') #within cluster sum of squares\n",
    "plt.show()"
   ]
  },
  {
   "cell_type": "code",
   "execution_count": 41,
   "id": "a3ff9a20",
   "metadata": {},
   "outputs": [],
   "source": [
    "kmeans = KMeans(n_clusters = 3)\n",
    "kmeans\n",
    "y_kmeans = kmeans.fit_predict(df11)\n"
   ]
  },
  {
   "cell_type": "code",
   "execution_count": 42,
   "id": "7590a20d",
   "metadata": {},
   "outputs": [
    {
     "data": {
      "text/plain": [
       "([<matplotlib.patches.Wedge at 0x19f3c64eeb0>,\n",
       "  <matplotlib.patches.Wedge at 0x19f3c65c5b0>,\n",
       "  <matplotlib.patches.Wedge at 0x19f3c65ccd0>],\n",
       " [Text(0.16524817491349286, 1.08751691512719, 'Centroid1'),\n",
       "  Text(-1.0985224843476813, -0.05699431008967912, 'centroid2'),\n",
       "  Text(0.2213736876756039, -1.0774941718658642, 'Centroid3')],\n",
       " [Text(0.09013536813463245, 0.5931910446148309, '45.2%'),\n",
       "  Text(-0.5991940823714624, -0.031087805503461335, '11.2%'),\n",
       "  Text(0.12074928418669302, -0.5877240937450167, '43.5%')])"
      ]
     },
     "execution_count": 42,
     "metadata": {},
     "output_type": "execute_result"
    },
    {
     "data": {
      "image/png": "[encoded data removed]",
      "text/plain": [
       "<Figure size 432x288 with 1 Axes>"
      ]
     },
     "metadata": {},
     "output_type": "display_data"
    }
   ],
   "source": [
    "filtered_label0 = df11[y_kmeans == 0]  #centeroid 1\n",
    "filtered_label1 = df11[y_kmeans == 1] #cen2\n",
    "filtered_label2 = df11[y_kmeans == 2] #cen3\n",
    "\n",
    "\n",
    "plt.pie([len(filtered_label0),len(filtered_label1),len(filtered_label2)],autopct='%1.1f%%',labels=[\"Centroid1\",\"centroid2\",\"Centroid3\"])\n"
   ]
  },
  {
   "cell_type": "code",
   "execution_count": 43,
   "id": "82a37203",
   "metadata": {},
   "outputs": [
    {
     "data": {
      "image/png": "[encoded data removed]",
      "text/plain": [
       "<Figure size 432x288 with 1 Axes>"
      ]
     },
     "metadata": {
      "needs_background": "light"
     },
     "output_type": "display_data"
    }
   ],
   "source": [
    "#plotting the results\n",
    "plt.scatter(filtered_label0[:,0] , filtered_label0[:,1],s=100,c=\"red\") #cen1\n",
    "plt.scatter(filtered_label1[:,0] , filtered_label1[:,1],s=100,c=\"purple\") #cen2\n",
    "plt.scatter(filtered_label2[:,0] , filtered_label2[:,1],s=100,c=\"blue\") #cen3\n",
    "plt.scatter(kmeans.cluster_centers_[:, 0], kmeans.cluster_centers_[:, 1], s=300, c='yellow', label = 'Centroids')\n",
    "\n",
    "plt.show()"
   ]
  },
  {
   "cell_type": "code",
   "execution_count": null,
   "id": "35caa9a6",
   "metadata": {},
   "outputs": [],
   "source": []
  }
 ],
 "metadata": {
  "kernelspec": {
   "display_name": "Python 3.9.6 64-bit",
   "language": "python",
   "name": "python3"
  },
  "language_info": {
   "codemirror_mode": {
    "name": "ipython",
    "version": 3
   },
   "file_extension": ".py",
   "mimetype": "text/x-python",
   "name": "python",
   "nbconvert_exporter": "python",
   "pygments_lexer": "ipython3",
   "version": "3.9.6"
  },
  "vscode": {
   "interpreter": {
    "hash": "50c5c2b6e05db9fe8b3433ad8e6dc52eedfaade324407e06c6799762d580ed33"
   }
  }
 },
 "nbformat": 4,
 "nbformat_minor": 5
}
