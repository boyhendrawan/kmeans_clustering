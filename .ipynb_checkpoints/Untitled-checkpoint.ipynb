{
 "cells": [
  {
   "cell_type": "code",
   "execution_count": 1,
   "id": "9a79777e",
   "metadata": {},
   "outputs": [],
   "source": [
    "import numpy as np\n",
    "import matplotlib.pyplot as plt\n",
    "import pandas as pd\n",
    "from sklearn.cluster import KMeans"
   ]
  },
  {
   "cell_type": "markdown",
   "id": "44e0ebd3",
   "metadata": {},
   "source": [
    "# Read Data From CSV"
   ]
  },
  {
   "cell_type": "code",
   "execution_count": 2,
   "id": "842794f2",
   "metadata": {},
   "outputs": [
    {
     "data": {
      "text/html": [
       "<div>\n",
       "<style scoped>\n",
       "    .dataframe tbody tr th:only-of-type {\n",
       "        vertical-align: middle;\n",
       "    }\n",
       "\n",
       "    .dataframe tbody tr th {\n",
       "        vertical-align: top;\n",
       "    }\n",
       "\n",
       "    .dataframe thead th {\n",
       "        text-align: right;\n",
       "    }\n",
       "</style>\n",
       "<table border=\"1\" class=\"dataframe\">\n",
       "  <thead>\n",
       "    <tr style=\"text-align: right;\">\n",
       "      <th></th>\n",
       "      <th>Sex</th>\n",
       "      <th>Marital status</th>\n",
       "      <th>Age</th>\n",
       "      <th>Education</th>\n",
       "      <th>Income</th>\n",
       "      <th>Occupation</th>\n",
       "      <th>Settlement size</th>\n",
       "    </tr>\n",
       "  </thead>\n",
       "  <tbody>\n",
       "    <tr>\n",
       "      <th>0</th>\n",
       "      <td>0</td>\n",
       "      <td>0</td>\n",
       "      <td>67</td>\n",
       "      <td>2</td>\n",
       "      <td>124670</td>\n",
       "      <td>1</td>\n",
       "      <td>2</td>\n",
       "    </tr>\n",
       "    <tr>\n",
       "      <th>1</th>\n",
       "      <td>1</td>\n",
       "      <td>1</td>\n",
       "      <td>22</td>\n",
       "      <td>1</td>\n",
       "      <td>150773</td>\n",
       "      <td>1</td>\n",
       "      <td>2</td>\n",
       "    </tr>\n",
       "    <tr>\n",
       "      <th>2</th>\n",
       "      <td>0</td>\n",
       "      <td>0</td>\n",
       "      <td>49</td>\n",
       "      <td>1</td>\n",
       "      <td>89210</td>\n",
       "      <td>0</td>\n",
       "      <td>0</td>\n",
       "    </tr>\n",
       "    <tr>\n",
       "      <th>3</th>\n",
       "      <td>0</td>\n",
       "      <td>0</td>\n",
       "      <td>45</td>\n",
       "      <td>1</td>\n",
       "      <td>171565</td>\n",
       "      <td>1</td>\n",
       "      <td>1</td>\n",
       "    </tr>\n",
       "    <tr>\n",
       "      <th>4</th>\n",
       "      <td>0</td>\n",
       "      <td>0</td>\n",
       "      <td>53</td>\n",
       "      <td>1</td>\n",
       "      <td>149031</td>\n",
       "      <td>1</td>\n",
       "      <td>1</td>\n",
       "    </tr>\n",
       "    <tr>\n",
       "      <th>...</th>\n",
       "      <td>...</td>\n",
       "      <td>...</td>\n",
       "      <td>...</td>\n",
       "      <td>...</td>\n",
       "      <td>...</td>\n",
       "      <td>...</td>\n",
       "      <td>...</td>\n",
       "    </tr>\n",
       "    <tr>\n",
       "      <th>1995</th>\n",
       "      <td>1</td>\n",
       "      <td>0</td>\n",
       "      <td>47</td>\n",
       "      <td>1</td>\n",
       "      <td>123525</td>\n",
       "      <td>0</td>\n",
       "      <td>0</td>\n",
       "    </tr>\n",
       "    <tr>\n",
       "      <th>1996</th>\n",
       "      <td>1</td>\n",
       "      <td>1</td>\n",
       "      <td>27</td>\n",
       "      <td>1</td>\n",
       "      <td>117744</td>\n",
       "      <td>1</td>\n",
       "      <td>0</td>\n",
       "    </tr>\n",
       "    <tr>\n",
       "      <th>1997</th>\n",
       "      <td>0</td>\n",
       "      <td>0</td>\n",
       "      <td>31</td>\n",
       "      <td>0</td>\n",
       "      <td>86400</td>\n",
       "      <td>0</td>\n",
       "      <td>0</td>\n",
       "    </tr>\n",
       "    <tr>\n",
       "      <th>1998</th>\n",
       "      <td>1</td>\n",
       "      <td>1</td>\n",
       "      <td>24</td>\n",
       "      <td>1</td>\n",
       "      <td>97968</td>\n",
       "      <td>0</td>\n",
       "      <td>0</td>\n",
       "    </tr>\n",
       "    <tr>\n",
       "      <th>1999</th>\n",
       "      <td>0</td>\n",
       "      <td>0</td>\n",
       "      <td>25</td>\n",
       "      <td>0</td>\n",
       "      <td>68416</td>\n",
       "      <td>0</td>\n",
       "      <td>0</td>\n",
       "    </tr>\n",
       "  </tbody>\n",
       "</table>\n",
       "<p>2000 rows × 7 columns</p>\n",
       "</div>"
      ],
      "text/plain": [
       "      Sex  Marital status  Age  Education  Income  Occupation  Settlement size\n",
       "0       0               0   67          2  124670           1                2\n",
       "1       1               1   22          1  150773           1                2\n",
       "2       0               0   49          1   89210           0                0\n",
       "3       0               0   45          1  171565           1                1\n",
       "4       0               0   53          1  149031           1                1\n",
       "...   ...             ...  ...        ...     ...         ...              ...\n",
       "1995    1               0   47          1  123525           0                0\n",
       "1996    1               1   27          1  117744           1                0\n",
       "1997    0               0   31          0   86400           0                0\n",
       "1998    1               1   24          1   97968           0                0\n",
       "1999    0               0   25          0   68416           0                0\n",
       "\n",
       "[2000 rows x 7 columns]"
      ]
     },
     "execution_count": 2,
     "metadata": {},
     "output_type": "execute_result"
    }
   ],
   "source": [
    "df=pd.read_csv(\"assets/data/segmentation data.csv\")\n",
    "df=df.drop(\"ID\",axis=1)\n",
    "df"
   ]
  },
  {
   "cell_type": "markdown",
   "id": "012d921e",
   "metadata": {},
   "source": [
    "<p>Here i count amount customer at the FMCG accodring anual income  and age</p>"
   ]
  },
  {
   "cell_type": "code",
   "execution_count": 3,
   "id": "b783d108",
   "metadata": {},
   "outputs": [
    {
     "data": {
      "text/html": [
       "<div>\n",
       "<style scoped>\n",
       "    .dataframe tbody tr th:only-of-type {\n",
       "        vertical-align: middle;\n",
       "    }\n",
       "\n",
       "    .dataframe tbody tr th {\n",
       "        vertical-align: top;\n",
       "    }\n",
       "\n",
       "    .dataframe thead th {\n",
       "        text-align: right;\n",
       "    }\n",
       "</style>\n",
       "<table border=\"1\" class=\"dataframe\">\n",
       "  <thead>\n",
       "    <tr style=\"text-align: right;\">\n",
       "      <th></th>\n",
       "      <th>Sex</th>\n",
       "      <th>Marital status</th>\n",
       "      <th>Age</th>\n",
       "      <th>Education</th>\n",
       "      <th>Income</th>\n",
       "      <th>Occupation</th>\n",
       "      <th>Settlement size</th>\n",
       "    </tr>\n",
       "  </thead>\n",
       "  <tbody>\n",
       "    <tr>\n",
       "      <th>count</th>\n",
       "      <td>2000.000000</td>\n",
       "      <td>2000.000000</td>\n",
       "      <td>2000.000000</td>\n",
       "      <td>2000.00000</td>\n",
       "      <td>2000.000000</td>\n",
       "      <td>2000.000000</td>\n",
       "      <td>2000.000000</td>\n",
       "    </tr>\n",
       "    <tr>\n",
       "      <th>mean</th>\n",
       "      <td>0.457000</td>\n",
       "      <td>0.496500</td>\n",
       "      <td>35.909000</td>\n",
       "      <td>1.03800</td>\n",
       "      <td>120954.419000</td>\n",
       "      <td>0.810500</td>\n",
       "      <td>0.739000</td>\n",
       "    </tr>\n",
       "    <tr>\n",
       "      <th>std</th>\n",
       "      <td>0.498272</td>\n",
       "      <td>0.500113</td>\n",
       "      <td>11.719402</td>\n",
       "      <td>0.59978</td>\n",
       "      <td>38108.824679</td>\n",
       "      <td>0.638587</td>\n",
       "      <td>0.812533</td>\n",
       "    </tr>\n",
       "    <tr>\n",
       "      <th>min</th>\n",
       "      <td>0.000000</td>\n",
       "      <td>0.000000</td>\n",
       "      <td>18.000000</td>\n",
       "      <td>0.00000</td>\n",
       "      <td>35832.000000</td>\n",
       "      <td>0.000000</td>\n",
       "      <td>0.000000</td>\n",
       "    </tr>\n",
       "    <tr>\n",
       "      <th>25%</th>\n",
       "      <td>0.000000</td>\n",
       "      <td>0.000000</td>\n",
       "      <td>27.000000</td>\n",
       "      <td>1.00000</td>\n",
       "      <td>97663.250000</td>\n",
       "      <td>0.000000</td>\n",
       "      <td>0.000000</td>\n",
       "    </tr>\n",
       "    <tr>\n",
       "      <th>50%</th>\n",
       "      <td>0.000000</td>\n",
       "      <td>0.000000</td>\n",
       "      <td>33.000000</td>\n",
       "      <td>1.00000</td>\n",
       "      <td>115548.500000</td>\n",
       "      <td>1.000000</td>\n",
       "      <td>1.000000</td>\n",
       "    </tr>\n",
       "    <tr>\n",
       "      <th>75%</th>\n",
       "      <td>1.000000</td>\n",
       "      <td>1.000000</td>\n",
       "      <td>42.000000</td>\n",
       "      <td>1.00000</td>\n",
       "      <td>138072.250000</td>\n",
       "      <td>1.000000</td>\n",
       "      <td>1.000000</td>\n",
       "    </tr>\n",
       "    <tr>\n",
       "      <th>max</th>\n",
       "      <td>1.000000</td>\n",
       "      <td>1.000000</td>\n",
       "      <td>76.000000</td>\n",
       "      <td>3.00000</td>\n",
       "      <td>309364.000000</td>\n",
       "      <td>2.000000</td>\n",
       "      <td>2.000000</td>\n",
       "    </tr>\n",
       "  </tbody>\n",
       "</table>\n",
       "</div>"
      ],
      "text/plain": [
       "               Sex  Marital status          Age   Education         Income  \\\n",
       "count  2000.000000     2000.000000  2000.000000  2000.00000    2000.000000   \n",
       "mean      0.457000        0.496500    35.909000     1.03800  120954.419000   \n",
       "std       0.498272        0.500113    11.719402     0.59978   38108.824679   \n",
       "min       0.000000        0.000000    18.000000     0.00000   35832.000000   \n",
       "25%       0.000000        0.000000    27.000000     1.00000   97663.250000   \n",
       "50%       0.000000        0.000000    33.000000     1.00000  115548.500000   \n",
       "75%       1.000000        1.000000    42.000000     1.00000  138072.250000   \n",
       "max       1.000000        1.000000    76.000000     3.00000  309364.000000   \n",
       "\n",
       "        Occupation  Settlement size  \n",
       "count  2000.000000      2000.000000  \n",
       "mean      0.810500         0.739000  \n",
       "std       0.638587         0.812533  \n",
       "min       0.000000         0.000000  \n",
       "25%       0.000000         0.000000  \n",
       "50%       1.000000         1.000000  \n",
       "75%       1.000000         1.000000  \n",
       "max       2.000000         2.000000  "
      ]
     },
     "execution_count": 3,
     "metadata": {},
     "output_type": "execute_result"
    }
   ],
   "source": [
    "df.describe()"
   ]
  },
  {
   "cell_type": "code",
   "execution_count": 4,
   "id": "59d34de6",
   "metadata": {},
   "outputs": [
    {
     "data": {
      "text/html": [
       "<div>\n",
       "<style scoped>\n",
       "    .dataframe tbody tr th:only-of-type {\n",
       "        vertical-align: middle;\n",
       "    }\n",
       "\n",
       "    .dataframe tbody tr th {\n",
       "        vertical-align: top;\n",
       "    }\n",
       "\n",
       "    .dataframe thead th {\n",
       "        text-align: right;\n",
       "    }\n",
       "</style>\n",
       "<table border=\"1\" class=\"dataframe\">\n",
       "  <thead>\n",
       "    <tr style=\"text-align: right;\">\n",
       "      <th></th>\n",
       "      <th>Age</th>\n",
       "      <th>Income</th>\n",
       "    </tr>\n",
       "  </thead>\n",
       "  <tbody>\n",
       "    <tr>\n",
       "      <th>Age</th>\n",
       "      <td>1.00000</td>\n",
       "      <td>0.34061</td>\n",
       "    </tr>\n",
       "    <tr>\n",
       "      <th>Income</th>\n",
       "      <td>0.34061</td>\n",
       "      <td>1.00000</td>\n",
       "    </tr>\n",
       "  </tbody>\n",
       "</table>\n",
       "</div>"
      ],
      "text/plain": [
       "            Age   Income\n",
       "Age     1.00000  0.34061\n",
       "Income  0.34061  1.00000"
      ]
     },
     "execution_count": 4,
     "metadata": {},
     "output_type": "execute_result"
    }
   ],
   "source": [
    "import seaborn as sns\n",
    "corelation=df.iloc[:,[2,4]].corr()\n",
    "corelation"
   ]
  },
  {
   "cell_type": "markdown",
   "id": "5eff75c0",
   "metadata": {},
   "source": [
    "# Cleaning Data Check Outlier"
   ]
  },
  {
   "cell_type": "code",
   "execution_count": 5,
   "id": "602825e1",
   "metadata": {},
   "outputs": [
    {
     "data": {
      "text/plain": [
       "<AxesSubplot:xlabel='Age'>"
      ]
     },
     "execution_count": 5,
     "metadata": {},
     "output_type": "execute_result"
    },
    {
     "data": {
      "image/png": "[encoded data removed]",
      "text/plain": [
       "<Figure size 432x288 with 1 Axes>"
      ]
     },
     "metadata": {
      "needs_background": "light"
     },
     "output_type": "display_data"
    }
   ],
   "source": [
    "sns.boxenplot(x=\"Age\",data=df)"
   ]
  },
  {
   "cell_type": "code",
   "execution_count": 6,
   "id": "7fdd1e2c",
   "metadata": {},
   "outputs": [
    {
     "name": "stdout",
     "output_type": "stream",
     "text": [
      "64.5 4.5\n"
     ]
    }
   ],
   "source": [
    "q1,q3=np.percentile(df[\"Age\"],[25,75])\n",
    "s1=q3-q1\n",
    "ba=q3+(1.5*s1)\n",
    "bw=q1-(1.5*s1)\n",
    "print(ba,bw)\n",
    "dirtyDatas=df[(df[\"Age\"]<bw)|(df[\"Age\"]>ba)]\n",
    "dfClean=df.drop(dirtyDatas.index)"
   ]
  },
  {
   "cell_type": "code",
   "execution_count": 7,
   "id": "9048ded8",
   "metadata": {},
   "outputs": [
    {
     "data": {
      "text/plain": [
       "<AxesSubplot:xlabel='Age'>"
      ]
     },
     "execution_count": 7,
     "metadata": {},
     "output_type": "execute_result"
    },
    {
     "data": {
      "image/png": "[encoded data removed]",
      "text/plain": [
       "<Figure size 432x288 with 1 Axes>"
      ]
     },
     "metadata": {
      "needs_background": "light"
     },
     "output_type": "display_data"
    }
   ],
   "source": [
    "sns.boxenplot(x=\"Age\",data=dfClean)"
   ]
  },
  {
   "cell_type": "code",
   "execution_count": 8,
   "id": "6e797e83",
   "metadata": {},
   "outputs": [
    {
     "data": {
      "text/plain": [
       "<AxesSubplot:xlabel='Income'>"
      ]
     },
     "execution_count": 8,
     "metadata": {},
     "output_type": "execute_result"
    },
    {
     "data": {
      "image/png": "[encoded data removed]",
      "text/plain": [
       "<Figure size 432x288 with 1 Axes>"
      ]
     },
     "metadata": {
      "needs_background": "light"
     },
     "output_type": "display_data"
    }
   ],
   "source": [
    "sns.boxenplot(x=\"Income\",data=dfClean)"
   ]
  },
  {
   "cell_type": "code",
   "execution_count": 9,
   "id": "0130a447",
   "metadata": {},
   "outputs": [],
   "source": [
    "q1,q3=np.percentile(dfClean[\"Income\"],[25,75])\n",
    "s1=q3-q1\n",
    "ba=q3+(1.5*s1)\n",
    "bw=q1-(1.5*s1)\n",
    "dirtyDatas=dfClean[(dfClean[\"Income\"]<bw)|(dfClean[\"Income\"]>ba)]\n",
    "dfClean=dfClean.drop(dirtyDatas.index)"
   ]
  },
  {
   "cell_type": "code",
   "execution_count": 10,
   "id": "6982069c",
   "metadata": {},
   "outputs": [
    {
     "data": {
      "text/plain": [
       "<AxesSubplot:xlabel='Income'>"
      ]
     },
     "execution_count": 10,
     "metadata": {},
     "output_type": "execute_result"
    },
    {
     "data": {
      "image/png": "[encoded data removed]",
      "text/plain": [
       "<Figure size 432x288 with 1 Axes>"
      ]
     },
     "metadata": {
      "needs_background": "light"
     },
     "output_type": "display_data"
    }
   ],
   "source": [
    "sns.boxenplot(x=\"Income\",data=dfClean)"
   ]
  },
  {
   "cell_type": "code",
   "execution_count": 11,
   "id": "2cc85ecd",
   "metadata": {},
   "outputs": [
    {
     "data": {
      "text/plain": [
       "0    994\n",
       "1    874\n",
       "Name: Sex, dtype: int64"
      ]
     },
     "execution_count": 11,
     "metadata": {},
     "output_type": "execute_result"
    }
   ],
   "source": [
    "dfClean[\"Sex\"].value_counts()"
   ]
  },
  {
   "cell_type": "markdown",
   "id": "34c41a51",
   "metadata": {},
   "source": [
    "## Balancing Data according Gender"
   ]
  },
  {
   "cell_type": "code",
   "execution_count": 12,
   "id": "f9949f0f",
   "metadata": {},
   "outputs": [],
   "source": [
    "df1=(dfClean.groupby('Sex',as_index=False)\n",
    ".apply(lambda x:x.sample(n=862))\n",
    ".reset_index(drop=True))"
   ]
  },
  {
   "cell_type": "code",
   "execution_count": 13,
   "id": "3a6f7674",
   "metadata": {},
   "outputs": [],
   "source": [
    "data=df1[\"Sex\"].value_counts()"
   ]
  },
  {
   "cell_type": "code",
   "execution_count": 14,
   "id": "ee6100d6",
   "metadata": {},
   "outputs": [
    {
     "data": {
      "text/plain": [
       "([<matplotlib.patches.Wedge at 0x20d78fafe50>,\n",
       "  <matplotlib.patches.Wedge at 0x20d78fc05e0>],\n",
       " [Text(6.735557395310444e-17, 1.1, 'Pria'),\n",
       "  Text(-2.0206672185931328e-16, -1.1, 'Wanita')],\n",
       " [Text(3.6739403974420595e-17, 0.6, '50.0%'),\n",
       "  Text(-1.1021821192326178e-16, -0.6, '50.0%')])"
      ]
     },
     "execution_count": 14,
     "metadata": {},
     "output_type": "execute_result"
    },
    {
     "data": {
      "image/png": "[encoded data removed]",
      "text/plain": [
       "<Figure size 432x288 with 1 Axes>"
      ]
     },
     "metadata": {},
     "output_type": "display_data"
    }
   ],
   "source": [
    "plt.pie(data,autopct='%1.1f%%',labels=[\"Pria\",\"Wanita\"])"
   ]
  },
  {
   "cell_type": "code",
   "execution_count": 15,
   "id": "bd25b708",
   "metadata": {},
   "outputs": [
    {
     "data": {
      "text/plain": [
       "array([[    67, 124670],\n",
       "       [    22, 150773],\n",
       "       [    49,  89210],\n",
       "       ...,\n",
       "       [    31,  86400],\n",
       "       [    24,  97968],\n",
       "       [    25,  68416]], dtype=int64)"
      ]
     },
     "execution_count": 15,
     "metadata": {},
     "output_type": "execute_result"
    }
   ],
   "source": [
    "df11=df1.iloc[:,[2,4]].values\n",
    "df11"
   ]
  },
  {
   "cell_type": "markdown",
   "id": "8aea06a5",
   "metadata": {},
   "source": [
    "# Enter The Algorithm"
   ]
  },
  {
   "cell_type": "code",
   "execution_count": 16,
   "id": "259bb748",
   "metadata": {},
   "outputs": [
    {
     "data": {
      "image/png": "[encoded data removed]",
      "text/plain": [
       "<Figure size 432x288 with 1 Axes>"
      ]
     },
     "metadata": {
      "needs_background": "light"
     },
     "output_type": "display_data"
    }
   ],
   "source": [
    "wccs=[]\n",
    "for i in range(1,11):\n",
    "    kmeans= KMeans(n_clusters=i)\n",
    "    kmeans.fit(df11)\n",
    "    wccs.append(kmeans.inertia_)\n",
    "plt.plot(range(1,11),wccs)\n",
    "plt.title(\"The Elbow Method\")\n",
    "plt.title('The elbow method')\n",
    "plt.xlabel('Number of clusters')\n",
    "plt.ylabel('WCSS') #within cluster sum of squares\n",
    "plt.show()"
   ]
  },
  {
   "cell_type": "code",
   "execution_count": 17,
   "id": "42613d97",
   "metadata": {},
   "outputs": [],
   "source": [
    "kmeans = KMeans(n_clusters = 3)\n",
    "kmeans\n",
    "y_kmeans = kmeans.fit_predict(df11)\n"
   ]
  },
  {
   "cell_type": "code",
   "execution_count": 18,
   "id": "3eebd1e4",
   "metadata": {},
   "outputs": [
    {
     "data": {
      "image/png": "[encoded data removed]",
      "text/plain": [
       "<Figure size 432x288 with 1 Axes>"
      ]
     },
     "metadata": {
      "needs_background": "light"
     },
     "output_type": "display_data"
    }
   ],
   "source": [
    "filtered_label0 = df11[y_kmeans == 0]\n",
    "filtered_label1 = df11[y_kmeans == 1]\n",
    "filtered_label2 = df11[y_kmeans == 2]\n",
    "filtered_label0\n",
    "# #plotting the results\n",
    "plt.scatter(filtered_label0[:,0] , filtered_label0[:,1],s=100,c=\"red\")\n",
    "plt.scatter(filtered_label1[:,0] , filtered_label1[:,1],s=100,c=\"purple\")\n",
    "plt.scatter(filtered_label2[:,0] , filtered_label2[:,1],s=100,c=\"blue\")\n",
    "plt.scatter(kmeans.cluster_centers_[:, 0], kmeans.cluster_centers_[:, 1], s=300, c='yellow', label = 'Centroids')\n",
    "\n",
    "plt.ylabel(\"Much Data\")\n",
    "plt.xlabel(\"Annual Income and Age\")\n",
    "plt.show()"
   ]
  },
  {
   "cell_type": "code",
   "execution_count": null,
   "id": "c2a74c33",
   "metadata": {},
   "outputs": [],
   "source": []
  }
 ],
 "metadata": {
  "kernelspec": {
   "display_name": "Python 3 (ipykernel)",
   "language": "python",
   "name": "python3"
  },
  "language_info": {
   "codemirror_mode": {
    "name": "ipython",
    "version": 3
   },
   "file_extension": ".py",
   "mimetype": "text/x-python",
   "name": "python",
   "nbconvert_exporter": "python",
   "pygments_lexer": "ipython3",
   "version": "3.9.6"
  }
 },
 "nbformat": 4,
 "nbformat_minor": 5
}
